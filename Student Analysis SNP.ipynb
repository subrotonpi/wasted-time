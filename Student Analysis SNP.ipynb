{
 "cells": [
  {
   "cell_type": "markdown",
   "metadata": {},
   "source": [
    "# BLC participation - a general overview"
   ]
  },
  {
   "cell_type": "code",
   "execution_count": 130,
   "metadata": {},
   "outputs": [],
   "source": [
    "import pandas as pd\n",
    "import turicreate as tc"
   ]
  },
  {
   "cell_type": "markdown",
   "metadata": {},
   "source": [
    "work around to read dataframe into turicreate SFrame"
   ]
  },
  {
   "cell_type": "code",
   "execution_count": 138,
   "metadata": {},
   "outputs": [
    {
     "ename": "UnicodeDecodeError",
     "evalue": "'utf-8' codec can't decode byte 0xff in position 0: invalid start byte",
     "output_type": "error",
     "traceback": [
      "\u001b[0;31m---------------------------------------------------------------------------\u001b[0m",
      "\u001b[0;31mUnicodeDecodeError\u001b[0m                        Traceback (most recent call last)",
      "\u001b[0;32m<ipython-input-138-d2fdc48ad43f>\u001b[0m in \u001b[0;36m<module>\u001b[0;34m\u001b[0m\n\u001b[0;32m----> 1\u001b[0;31m \u001b[0mdf\u001b[0m \u001b[0;34m=\u001b[0m \u001b[0mpd\u001b[0m\u001b[0;34m.\u001b[0m\u001b[0mread_csv\u001b[0m\u001b[0;34m(\u001b[0m\u001b[0;34m'algo_2.csv'\u001b[0m\u001b[0;34m)\u001b[0m\u001b[0;34m\u001b[0m\u001b[0;34m\u001b[0m\u001b[0m\n\u001b[0m\u001b[1;32m      2\u001b[0m \u001b[0mdf\u001b[0m \u001b[0;34m=\u001b[0m \u001b[0mdf\u001b[0m\u001b[0;34m.\u001b[0m\u001b[0mreplace\u001b[0m\u001b[0;34m(\u001b[0m\u001b[0;34m{\u001b[0m\u001b[0mpd\u001b[0m\u001b[0;34m.\u001b[0m\u001b[0mnp\u001b[0m\u001b[0;34m.\u001b[0m\u001b[0mnan\u001b[0m\u001b[0;34m:\u001b[0m \u001b[0;32mNone\u001b[0m\u001b[0;34m}\u001b[0m\u001b[0;34m)\u001b[0m\u001b[0;34m\u001b[0m\u001b[0;34m\u001b[0m\u001b[0m\n\u001b[1;32m      3\u001b[0m \u001b[0mstd\u001b[0m \u001b[0;34m=\u001b[0m \u001b[0mtc\u001b[0m\u001b[0;34m.\u001b[0m\u001b[0mSFrame\u001b[0m\u001b[0;34m(\u001b[0m\u001b[0mdf\u001b[0m\u001b[0;34m)\u001b[0m\u001b[0;34m\u001b[0m\u001b[0;34m\u001b[0m\u001b[0m\n\u001b[1;32m      4\u001b[0m \u001b[0mcols\u001b[0m \u001b[0;34m=\u001b[0m \u001b[0mstd\u001b[0m\u001b[0;34m.\u001b[0m\u001b[0mcolumn_names\u001b[0m\u001b[0;34m(\u001b[0m\u001b[0;34m)\u001b[0m\u001b[0;34m\u001b[0m\u001b[0;34m\u001b[0m\u001b[0m\n\u001b[1;32m      5\u001b[0m \u001b[0mprint\u001b[0m\u001b[0;34m(\u001b[0m\u001b[0mcols\u001b[0m\u001b[0;34m)\u001b[0m\u001b[0;34m\u001b[0m\u001b[0;34m\u001b[0m\u001b[0m\n",
      "\u001b[0;32m/opt/anaconda3/lib/python3.7/site-packages/pandas/io/parsers.py\u001b[0m in \u001b[0;36mparser_f\u001b[0;34m(filepath_or_buffer, sep, delimiter, header, names, index_col, usecols, squeeze, prefix, mangle_dupe_cols, dtype, engine, converters, true_values, false_values, skipinitialspace, skiprows, skipfooter, nrows, na_values, keep_default_na, na_filter, verbose, skip_blank_lines, parse_dates, infer_datetime_format, keep_date_col, date_parser, dayfirst, cache_dates, iterator, chunksize, compression, thousands, decimal, lineterminator, quotechar, quoting, doublequote, escapechar, comment, encoding, dialect, error_bad_lines, warn_bad_lines, delim_whitespace, low_memory, memory_map, float_precision)\u001b[0m\n\u001b[1;32m    674\u001b[0m         )\n\u001b[1;32m    675\u001b[0m \u001b[0;34m\u001b[0m\u001b[0m\n\u001b[0;32m--> 676\u001b[0;31m         \u001b[0;32mreturn\u001b[0m \u001b[0m_read\u001b[0m\u001b[0;34m(\u001b[0m\u001b[0mfilepath_or_buffer\u001b[0m\u001b[0;34m,\u001b[0m \u001b[0mkwds\u001b[0m\u001b[0;34m)\u001b[0m\u001b[0;34m\u001b[0m\u001b[0;34m\u001b[0m\u001b[0m\n\u001b[0m\u001b[1;32m    677\u001b[0m \u001b[0;34m\u001b[0m\u001b[0m\n\u001b[1;32m    678\u001b[0m     \u001b[0mparser_f\u001b[0m\u001b[0;34m.\u001b[0m\u001b[0m__name__\u001b[0m \u001b[0;34m=\u001b[0m \u001b[0mname\u001b[0m\u001b[0;34m\u001b[0m\u001b[0;34m\u001b[0m\u001b[0m\n",
      "\u001b[0;32m/opt/anaconda3/lib/python3.7/site-packages/pandas/io/parsers.py\u001b[0m in \u001b[0;36m_read\u001b[0;34m(filepath_or_buffer, kwds)\u001b[0m\n\u001b[1;32m    446\u001b[0m \u001b[0;34m\u001b[0m\u001b[0m\n\u001b[1;32m    447\u001b[0m     \u001b[0;31m# Create the parser.\u001b[0m\u001b[0;34m\u001b[0m\u001b[0;34m\u001b[0m\u001b[0;34m\u001b[0m\u001b[0m\n\u001b[0;32m--> 448\u001b[0;31m     \u001b[0mparser\u001b[0m \u001b[0;34m=\u001b[0m \u001b[0mTextFileReader\u001b[0m\u001b[0;34m(\u001b[0m\u001b[0mfp_or_buf\u001b[0m\u001b[0;34m,\u001b[0m \u001b[0;34m**\u001b[0m\u001b[0mkwds\u001b[0m\u001b[0;34m)\u001b[0m\u001b[0;34m\u001b[0m\u001b[0;34m\u001b[0m\u001b[0m\n\u001b[0m\u001b[1;32m    449\u001b[0m \u001b[0;34m\u001b[0m\u001b[0m\n\u001b[1;32m    450\u001b[0m     \u001b[0;32mif\u001b[0m \u001b[0mchunksize\u001b[0m \u001b[0;32mor\u001b[0m \u001b[0miterator\u001b[0m\u001b[0;34m:\u001b[0m\u001b[0;34m\u001b[0m\u001b[0;34m\u001b[0m\u001b[0m\n",
      "\u001b[0;32m/opt/anaconda3/lib/python3.7/site-packages/pandas/io/parsers.py\u001b[0m in \u001b[0;36m__init__\u001b[0;34m(self, f, engine, **kwds)\u001b[0m\n\u001b[1;32m    878\u001b[0m             \u001b[0mself\u001b[0m\u001b[0;34m.\u001b[0m\u001b[0moptions\u001b[0m\u001b[0;34m[\u001b[0m\u001b[0;34m\"has_index_names\"\u001b[0m\u001b[0;34m]\u001b[0m \u001b[0;34m=\u001b[0m \u001b[0mkwds\u001b[0m\u001b[0;34m[\u001b[0m\u001b[0;34m\"has_index_names\"\u001b[0m\u001b[0;34m]\u001b[0m\u001b[0;34m\u001b[0m\u001b[0;34m\u001b[0m\u001b[0m\n\u001b[1;32m    879\u001b[0m \u001b[0;34m\u001b[0m\u001b[0m\n\u001b[0;32m--> 880\u001b[0;31m         \u001b[0mself\u001b[0m\u001b[0;34m.\u001b[0m\u001b[0m_make_engine\u001b[0m\u001b[0;34m(\u001b[0m\u001b[0mself\u001b[0m\u001b[0;34m.\u001b[0m\u001b[0mengine\u001b[0m\u001b[0;34m)\u001b[0m\u001b[0;34m\u001b[0m\u001b[0;34m\u001b[0m\u001b[0m\n\u001b[0m\u001b[1;32m    881\u001b[0m \u001b[0;34m\u001b[0m\u001b[0m\n\u001b[1;32m    882\u001b[0m     \u001b[0;32mdef\u001b[0m \u001b[0mclose\u001b[0m\u001b[0;34m(\u001b[0m\u001b[0mself\u001b[0m\u001b[0;34m)\u001b[0m\u001b[0;34m:\u001b[0m\u001b[0;34m\u001b[0m\u001b[0;34m\u001b[0m\u001b[0m\n",
      "\u001b[0;32m/opt/anaconda3/lib/python3.7/site-packages/pandas/io/parsers.py\u001b[0m in \u001b[0;36m_make_engine\u001b[0;34m(self, engine)\u001b[0m\n\u001b[1;32m   1112\u001b[0m     \u001b[0;32mdef\u001b[0m \u001b[0m_make_engine\u001b[0m\u001b[0;34m(\u001b[0m\u001b[0mself\u001b[0m\u001b[0;34m,\u001b[0m \u001b[0mengine\u001b[0m\u001b[0;34m=\u001b[0m\u001b[0;34m\"c\"\u001b[0m\u001b[0;34m)\u001b[0m\u001b[0;34m:\u001b[0m\u001b[0;34m\u001b[0m\u001b[0;34m\u001b[0m\u001b[0m\n\u001b[1;32m   1113\u001b[0m         \u001b[0;32mif\u001b[0m \u001b[0mengine\u001b[0m \u001b[0;34m==\u001b[0m \u001b[0;34m\"c\"\u001b[0m\u001b[0;34m:\u001b[0m\u001b[0;34m\u001b[0m\u001b[0;34m\u001b[0m\u001b[0m\n\u001b[0;32m-> 1114\u001b[0;31m             \u001b[0mself\u001b[0m\u001b[0;34m.\u001b[0m\u001b[0m_engine\u001b[0m \u001b[0;34m=\u001b[0m \u001b[0mCParserWrapper\u001b[0m\u001b[0;34m(\u001b[0m\u001b[0mself\u001b[0m\u001b[0;34m.\u001b[0m\u001b[0mf\u001b[0m\u001b[0;34m,\u001b[0m \u001b[0;34m**\u001b[0m\u001b[0mself\u001b[0m\u001b[0;34m.\u001b[0m\u001b[0moptions\u001b[0m\u001b[0;34m)\u001b[0m\u001b[0;34m\u001b[0m\u001b[0;34m\u001b[0m\u001b[0m\n\u001b[0m\u001b[1;32m   1115\u001b[0m         \u001b[0;32melse\u001b[0m\u001b[0;34m:\u001b[0m\u001b[0;34m\u001b[0m\u001b[0;34m\u001b[0m\u001b[0m\n\u001b[1;32m   1116\u001b[0m             \u001b[0;32mif\u001b[0m \u001b[0mengine\u001b[0m \u001b[0;34m==\u001b[0m \u001b[0;34m\"python\"\u001b[0m\u001b[0;34m:\u001b[0m\u001b[0;34m\u001b[0m\u001b[0;34m\u001b[0m\u001b[0m\n",
      "\u001b[0;32m/opt/anaconda3/lib/python3.7/site-packages/pandas/io/parsers.py\u001b[0m in \u001b[0;36m__init__\u001b[0;34m(self, src, **kwds)\u001b[0m\n\u001b[1;32m   1889\u001b[0m         \u001b[0mkwds\u001b[0m\u001b[0;34m[\u001b[0m\u001b[0;34m\"usecols\"\u001b[0m\u001b[0;34m]\u001b[0m \u001b[0;34m=\u001b[0m \u001b[0mself\u001b[0m\u001b[0;34m.\u001b[0m\u001b[0musecols\u001b[0m\u001b[0;34m\u001b[0m\u001b[0;34m\u001b[0m\u001b[0m\n\u001b[1;32m   1890\u001b[0m \u001b[0;34m\u001b[0m\u001b[0m\n\u001b[0;32m-> 1891\u001b[0;31m         \u001b[0mself\u001b[0m\u001b[0;34m.\u001b[0m\u001b[0m_reader\u001b[0m \u001b[0;34m=\u001b[0m \u001b[0mparsers\u001b[0m\u001b[0;34m.\u001b[0m\u001b[0mTextReader\u001b[0m\u001b[0;34m(\u001b[0m\u001b[0msrc\u001b[0m\u001b[0;34m,\u001b[0m \u001b[0;34m**\u001b[0m\u001b[0mkwds\u001b[0m\u001b[0;34m)\u001b[0m\u001b[0;34m\u001b[0m\u001b[0;34m\u001b[0m\u001b[0m\n\u001b[0m\u001b[1;32m   1892\u001b[0m         \u001b[0mself\u001b[0m\u001b[0;34m.\u001b[0m\u001b[0munnamed_cols\u001b[0m \u001b[0;34m=\u001b[0m \u001b[0mself\u001b[0m\u001b[0;34m.\u001b[0m\u001b[0m_reader\u001b[0m\u001b[0;34m.\u001b[0m\u001b[0munnamed_cols\u001b[0m\u001b[0;34m\u001b[0m\u001b[0;34m\u001b[0m\u001b[0m\n\u001b[1;32m   1893\u001b[0m \u001b[0;34m\u001b[0m\u001b[0m\n",
      "\u001b[0;32mpandas/_libs/parsers.pyx\u001b[0m in \u001b[0;36mpandas._libs.parsers.TextReader.__cinit__\u001b[0;34m()\u001b[0m\n",
      "\u001b[0;32mpandas/_libs/parsers.pyx\u001b[0m in \u001b[0;36mpandas._libs.parsers.TextReader._get_header\u001b[0;34m()\u001b[0m\n",
      "\u001b[0;31mUnicodeDecodeError\u001b[0m: 'utf-8' codec can't decode byte 0xff in position 0: invalid start byte"
     ]
    }
   ],
   "source": [
    "df = pd.read_csv('algo_1.csv')\n",
    "df = df.replace({pd.np.nan: None})\n",
    "std = tc.SFrame(df)\n",
    "cols = std.column_names()\n",
    "print(cols)"
   ]
  },
  {
   "cell_type": "code",
   "execution_count": 132,
   "metadata": {},
   "outputs": [
    {
     "name": "stdout",
     "output_type": "stream",
     "text": [
      "['name', 'id', 'email', 'links', 'tlinks', 'ps', 'tps', 'unnamed\\n', 'tunnamed', 'mitlink', 'tmitlink', 'dw1', 'tdw1', 'bolink', 'tbolink', 'dw2', 'tdw2', 'algos', 'talgos', 'dw3', 'tdw3', 'demoquiz', 'tdemoquiz', 'algos2', 'talgos2', 'dw4', 'tdw4']\n"
     ]
    },
    {
     "data": {
      "text/plain": [
       "86"
      ]
     },
     "execution_count": 132,
     "metadata": {},
     "output_type": "execute_result"
    }
   ],
   "source": [
    "print(cols)\n",
    "std.num_rows()"
   ]
  },
  {
   "cell_type": "markdown",
   "metadata": {},
   "source": [
    "## Missing IDs in BLC"
   ]
  },
  {
   "cell_type": "code",
   "execution_count": 133,
   "metadata": {},
   "outputs": [],
   "source": [
    "missing_id = std[std['id'] == None]['name']"
   ]
  },
  {
   "cell_type": "code",
   "execution_count": 134,
   "metadata": {},
   "outputs": [
    {
     "name": "stdout",
     "output_type": "stream",
     "text": [
      "List of students have not updated ID in BLC\n",
      "------------------\n",
      "Tanjima Akhanda\n",
      "Adnan Ashkari\n",
      "Asifur Rahaman Asif\n",
      "akramul babu\n",
      "Arif Billah Babu\n",
      "Md. Jamal Hossan Bhuiyan\n",
      "Umme habiba Bornali\n",
      "Kajali Chakma\n",
      "Eshfat Ara Esha\n",
      "Shabikun Eva\n",
      "Biplob ghosh\n",
      "Md Asmaul Haque\n",
      "Md Jahidul Islam\n",
      "Tahmid Islam\n",
      "Ziaul Kabir\n",
      "Tandra Karmakar\n",
      "Mohammad Nazib Hossain Nazib\n",
      "Shake md Rakib\n",
      "Md Rasel\n",
      "Nazam Been Saddi\n",
      "Joy Sarkar\n",
      "Likhon Sarker\n",
      "Md Ibrahim Kholil Sumon\n",
      "parvez tutul\n",
      "Kazi Zahan\n"
     ]
    }
   ],
   "source": [
    "print(\"List of students have not updated ID in BLC\\n------------------\")\n",
    "for i in missing_id:\n",
    "    print(i)"
   ]
  },
  {
   "cell_type": "markdown",
   "metadata": {},
   "source": [
    "## Scoring based on  incomplete task till week4/5\n",
    "### for all students, high score means good participation"
   ]
  },
  {
   "cell_type": "code",
   "execution_count": 135,
   "metadata": {},
   "outputs": [
    {
     "name": "stdout",
     "output_type": "stream",
     "text": [
      "Highest Score: 12\n",
      "Lowest Score: 0\n"
     ]
    }
   ],
   "source": [
    "count=[]\n",
    "for j in range (0, std.num_rows()): #all rows\n",
    "    s = std[j:j+1]\n",
    "    temp = 0\n",
    "    for i in std.column_names(): #all column for each row\n",
    "        if(s[i][0] == 'Not completed'):\n",
    "            temp-=1\n",
    "    count.append(temp+12)\n",
    "print(\"Highest Score: \"+ str(max(count)))\n",
    "print(\"Lowest Score: \"+ str(min(count)))"
   ]
  },
  {
   "cell_type": "code",
   "execution_count": 136,
   "metadata": {},
   "outputs": [],
   "source": [
    "std_scored = std.add_column(countd, 'score')"
   ]
  },
  {
   "cell_type": "code",
   "execution_count": 137,
   "metadata": {},
   "outputs": [
    {
     "name": "stdout",
     "output_type": "stream",
     "text": [
      "+--------------------------------+-------+\n",
      "|              name              | score |\n",
      "+--------------------------------+-------+\n",
      "|    Kazi Abu Sayem Md. Nayem    |   12  |\n",
      "|      Eteka Sultana tumpa       |   12  |\n",
      "|           Israt Esha           |   12  |\n",
      "|         Raduan Ahamad          |   12  |\n",
      "|         Istiak Ahamed          |   12  |\n",
      "|          Sakib Rokoni          |   12  |\n",
      "|         Tanjil Rahman          |   12  |\n",
      "|        Md. Foysal Ahmed        |   12  |\n",
      "|      SHAZID NAWAS SHOVON       |   12  |\n",
      "|        Tanjima Akhanda         |   12  |\n",
      "|      Tafsirul Islam Nibir      |   12  |\n",
      "|          Amirul Islam          |   12  |\n",
      "|      M Shahriar Ishtiaque      |   12  |\n",
      "|     Robayet Hossain Niloy      |   12  |\n",
      "|          Mosa. Rabeya          |   11  |\n",
      "|        Farhana Smritee         |   11  |\n",
      "|          Koushik Nag           |   11  |\n",
      "|         Rubaiyat Sholi         |   11  |\n",
      "|          Faraz Ahmed           |   11  |\n",
      "|       Mehedi Hasan Munna       |   11  |\n",
      "|          Abruna Afrin          |   11  |\n",
      "|    S.M. Khasrul Alam Shakil    |   11  |\n",
      "|         Abdullah Masum         |   10  |\n",
      "| ahmed15-12960@diu.edu.bd sunny |   10  |\n",
      "|       Asadullah Al Imran       |   10  |\n",
      "|         Sium Bin Noor          |   10  |\n",
      "|         Bidyut Sharma          |   10  |\n",
      "|     Mst. Fahmida Muntasim      |   10  |\n",
      "|        Shahariar Sajol         |   10  |\n",
      "|        Md.Nayem Hassan         |   10  |\n",
      "|       Md. Albin Hossain        |   9   |\n",
      "|         Moontasir Moon         |   9   |\n",
      "|         Tahrima Tazim          |   9   |\n",
      "|          Mahedi hasan          |   9   |\n",
      "|        Nazam Been Saddi        |   9   |\n",
      "|        Sayem Al Mahadi         |   9   |\n",
      "|      Umme habiba Bornali       |   8   |\n",
      "|         Nazmul Hossain         |   8   |\n",
      "|         Mahmodul Hasan         |   8   |\n",
      "|    Md Ibrahim Kholil Sumon     |   8   |\n",
      "|        Marjea Anam Mila        |   8   |\n",
      "|          Shakil Ahmed          |   7   |\n",
      "|        Md. Asaduzzaman         |   7   |\n",
      "|         zannatun vasha         |   7   |\n",
      "|           Kazi Zahan           |   6   |\n",
      "|          Anik Azmain           |   6   |\n",
      "| Nusrat Jahan Marjana (191-...  |   6   |\n",
      "|           saikat mia           |   6   |\n",
      "|          Raju Ahamed           |   6   |\n",
      "|          Shabikun Eva          |   6   |\n",
      "|        Minjun Nahar Mim        |   5   |\n",
      "|   Md Omar Jilani Jidan Jidan   |   5   |\n",
      "|          Susmoy Paul           |   5   |\n",
      "|           shama saha           |   5   |\n",
      "|        Tandra Karmakar         |   4   |\n",
      "|      Asifur Rahaman Asif       |   4   |\n",
      "|       Sayed Anwar Rifat        |   4   |\n",
      "|          Ahasan Kabir          |   4   |\n",
      "|            Md Rasel            |   4   |\n",
      "|          akramul babu          |   3   |\n",
      "|         Likhon Sarker          |   3   |\n",
      "|         Kajali Chakma          |   3   |\n",
      "|           Bipro Roy            |   2   |\n",
      "|     Rashedur Rahman Hridoy     |   2   |\n",
      "|           Joy Sarkar           |   2   |\n",
      "|        Md Jahidul Islam        |   1   |\n",
      "|           Lochon Roy           |   0   |\n",
      "|        Shahriar Hossain        |   0   |\n",
      "|          Prince Saha           |   0   |\n",
      "|            Kz Numan            |   0   |\n",
      "|        Eshfat Ara Esha         |   0   |\n",
      "|         Shake md Rakib         |   0   |\n",
      "|          Biplob ghosh          |   0   |\n",
      "|        Md Asmaul Haque         |   0   |\n",
      "|    Md. Jamal Hossan Bhuiyan    |   0   |\n",
      "|        Arif Billah Babu        |   0   |\n",
      "|  Mohammad Nazib Hossain Nazib  |   0   |\n",
      "|        Md Tariqul Islam        |   0   |\n",
      "|          Tahmid Islam          |   0   |\n",
      "|         Adnan Ashkari          |   0   |\n",
      "|          Ziaul Kabir           |   0   |\n",
      "|    MD. Rashedul Haque Ador     |   0   |\n",
      "|          parvez tutul          |   0   |\n",
      "|         Md Sakib Uddin         |   0   |\n",
      "|      Merazur Rahman Meraz      |   0   |\n",
      "|       Samiul Islam Abir        |   0   |\n",
      "+--------------------------------+-------+\n",
      "[86 rows x 2 columns]\n",
      "\n"
     ]
    }
   ],
   "source": [
    "name_score = std_scored[['name', 'score']].sort('score', ascending=False)\n",
    "name_score.print_rows(86, 2)"
   ]
  },
  {
   "cell_type": "code",
   "execution_count": null,
   "metadata": {},
   "outputs": [],
   "source": []
  },
  {
   "cell_type": "code",
   "execution_count": null,
   "metadata": {},
   "outputs": [],
   "source": []
  }
 ],
 "metadata": {
  "kernelspec": {
   "display_name": "Python 3",
   "language": "python",
   "name": "python3"
  },
  "language_info": {
   "codemirror_mode": {
    "name": "ipython",
    "version": 3
   },
   "file_extension": ".py",
   "mimetype": "text/x-python",
   "name": "python",
   "nbconvert_exporter": "python",
   "pygments_lexer": "ipython3",
   "version": "3.7.6"
  }
 },
 "nbformat": 4,
 "nbformat_minor": 4
}
